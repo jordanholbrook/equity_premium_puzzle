{
 "cells": [
  {
   "cell_type": "markdown",
   "metadata": {},
   "source": [
    "# Jordan Holbrook\n",
    "## Macro II\n",
    "## PS 8\n",
    "## 4/9/2021"
   ]
  },
  {
   "cell_type": "markdown",
   "metadata": {},
   "source": [
    "# Equity Premium Puzzle"
   ]
  },
  {
   "cell_type": "code",
   "execution_count": 3,
   "metadata": {},
   "outputs": [],
   "source": [
    "# Importing Packages\n",
    "import os\n",
    "import pandas as pd \n",
    "import isbnlib \n",
    "import numpy as np\n",
    "import time\n",
    "import requests\n",
    "from bs4 import BeautifulSoup\n",
    "import datetime\n",
    "import re\n",
    "from sympy import symbols, Eq, solve"
   ]
  },
  {
   "cell_type": "markdown",
   "metadata": {},
   "source": [
    "Reading in the Data"
   ]
  },
  {
   "cell_type": "code",
   "execution_count": 6,
   "metadata": {},
   "outputs": [
    {
     "data": {
      "text/html": [
       "<div>\n",
       "<style scoped>\n",
       "    .dataframe tbody tr th:only-of-type {\n",
       "        vertical-align: middle;\n",
       "    }\n",
       "\n",
       "    .dataframe tbody tr th {\n",
       "        vertical-align: top;\n",
       "    }\n",
       "\n",
       "    .dataframe thead th {\n",
       "        text-align: right;\n",
       "    }\n",
       "</style>\n",
       "<table border=\"1\" class=\"dataframe\">\n",
       "  <thead>\n",
       "    <tr style=\"text-align: right;\">\n",
       "      <th></th>\n",
       "      <th>year</th>\n",
       "      <th>qtr</th>\n",
       "      <th>Consumption</th>\n",
       "      <th>Equity</th>\n",
       "      <th>Bonds</th>\n",
       "    </tr>\n",
       "  </thead>\n",
       "  <tbody>\n",
       "    <tr>\n",
       "      <th>0</th>\n",
       "      <td>1947</td>\n",
       "      <td>1</td>\n",
       "      <td>NaN</td>\n",
       "      <td>NaN</td>\n",
       "      <td>NaN</td>\n",
       "    </tr>\n",
       "    <tr>\n",
       "      <th>1</th>\n",
       "      <td>1947</td>\n",
       "      <td>2</td>\n",
       "      <td>0.010879</td>\n",
       "      <td>-0.050602</td>\n",
       "      <td>-0.008857</td>\n",
       "    </tr>\n",
       "    <tr>\n",
       "      <th>2</th>\n",
       "      <td>1947</td>\n",
       "      <td>3</td>\n",
       "      <td>-0.002750</td>\n",
       "      <td>0.046852</td>\n",
       "      <td>-0.019506</td>\n",
       "    </tr>\n",
       "    <tr>\n",
       "      <th>3</th>\n",
       "      <td>1947</td>\n",
       "      <td>4</td>\n",
       "      <td>-0.011554</td>\n",
       "      <td>-0.023406</td>\n",
       "      <td>-0.022647</td>\n",
       "    </tr>\n",
       "    <tr>\n",
       "      <th>4</th>\n",
       "      <td>1948</td>\n",
       "      <td>1</td>\n",
       "      <td>0.005972</td>\n",
       "      <td>-0.052005</td>\n",
       "      <td>-0.007556</td>\n",
       "    </tr>\n",
       "    <tr>\n",
       "      <th>5</th>\n",
       "      <td>1948</td>\n",
       "      <td>2</td>\n",
       "      <td>0.009992</td>\n",
       "      <td>0.115816</td>\n",
       "      <td>-0.007229</td>\n",
       "    </tr>\n",
       "    <tr>\n",
       "      <th>6</th>\n",
       "      <td>1948</td>\n",
       "      <td>3</td>\n",
       "      <td>-0.001184</td>\n",
       "      <td>-0.000729</td>\n",
       "      <td>-0.005773</td>\n",
       "    </tr>\n",
       "    <tr>\n",
       "      <th>7</th>\n",
       "      <td>1948</td>\n",
       "      <td>4</td>\n",
       "      <td>0.009247</td>\n",
       "      <td>-0.013445</td>\n",
       "      <td>0.005318</td>\n",
       "    </tr>\n",
       "    <tr>\n",
       "      <th>8</th>\n",
       "      <td>1949</td>\n",
       "      <td>1</td>\n",
       "      <td>0.003337</td>\n",
       "      <td>-0.010638</td>\n",
       "      <td>0.011746</td>\n",
       "    </tr>\n",
       "    <tr>\n",
       "      <th>9</th>\n",
       "      <td>1949</td>\n",
       "      <td>2</td>\n",
       "      <td>0.002030</td>\n",
       "      <td>-0.007460</td>\n",
       "      <td>0.009992</td>\n",
       "    </tr>\n",
       "    <tr>\n",
       "      <th>10</th>\n",
       "      <td>1949</td>\n",
       "      <td>3</td>\n",
       "      <td>-0.008156</td>\n",
       "      <td>0.064687</td>\n",
       "      <td>0.008320</td>\n",
       "    </tr>\n",
       "    <tr>\n",
       "      <th>11</th>\n",
       "      <td>1949</td>\n",
       "      <td>4</td>\n",
       "      <td>0.005727</td>\n",
       "      <td>0.078317</td>\n",
       "      <td>0.000861</td>\n",
       "    </tr>\n",
       "  </tbody>\n",
       "</table>\n",
       "</div>"
      ],
      "text/plain": [
       "    year  qtr  Consumption    Equity     Bonds\n",
       "0   1947    1          NaN       NaN       NaN\n",
       "1   1947    2     0.010879 -0.050602 -0.008857\n",
       "2   1947    3    -0.002750  0.046852 -0.019506\n",
       "3   1947    4    -0.011554 -0.023406 -0.022647\n",
       "4   1948    1     0.005972 -0.052005 -0.007556\n",
       "5   1948    2     0.009992  0.115816 -0.007229\n",
       "6   1948    3    -0.001184 -0.000729 -0.005773\n",
       "7   1948    4     0.009247 -0.013445  0.005318\n",
       "8   1949    1     0.003337 -0.010638  0.011746\n",
       "9   1949    2     0.002030 -0.007460  0.009992\n",
       "10  1949    3    -0.008156  0.064687  0.008320\n",
       "11  1949    4     0.005727  0.078317  0.000861"
      ]
     },
     "execution_count": 6,
     "metadata": {},
     "output_type": "execute_result"
    }
   ],
   "source": [
    "data = pd.read_excel(r\"C:\\Users\\jcholbro\\OneDrive - University Of Houston\\School_UH\\Macro II\\Macro_PS8_Data.xlsx\", ignore_index=True)\n",
    "\n",
    "data = data.drop(columns='Unnamed: 2')\n",
    "data.head(12)"
   ]
  },
  {
   "cell_type": "markdown",
   "metadata": {},
   "source": [
    "### Computing Moments from the Data"
   ]
  },
  {
   "cell_type": "code",
   "execution_count": 18,
   "metadata": {},
   "outputs": [
    {
     "name": "stdout",
     "output_type": "stream",
     "text": [
      "mu:  0.0045141897637948755\n",
      "delta:  0.005570715863764123\n",
      "rho:  0.6067036487176168\n",
      "phi:  0.8033518243588085\n"
     ]
    }
   ],
   "source": [
    "mu = np.mean(data.Consumption)\n",
    "delta = np.std(data.Consumption)\n",
    "ave_stocks = np.mean(data.Equity)\n",
    "ave_bonds = np.mean(data.Bonds)\n",
    "true_premium = ave_stocks-ave_bonds\n",
    "\n",
    "lambda1 = 1+mu+delta\n",
    "lambda2 = 1+mu-delta\n",
    "\n",
    "data['lag_consumption'] = data['Consumption'].shift(1)\n",
    "\n",
    "cov = data[['Consumption','lag_consumption']].cov()\n",
    "cov = cov.iloc[0,1]\n",
    "var = data['Consumption'].var()\n",
    "\n",
    "rho=(cov+var)/(2*var)\n",
    "phi=(1+rho)/2\n",
    "\n",
    "print('mu:  '+ str(mu))\n",
    "print('delta:  '+ str(delta))\n",
    "print('rho:  '+ str(rho))\n",
    "print('phi:  '+ str(phi))"
   ]
  },
  {
   "cell_type": "code",
   "execution_count": 26,
   "metadata": {},
   "outputs": [],
   "source": [
    "phi1 = 1-phi\n",
    "phi2 = phi\n",
    "\n",
    "beta = 0.99\n",
    "sigma = 10\n",
    "\n",
    "#x, y = symbols('x y')\n",
    "w1, w2 = symbols('w1 w2')\n",
    "eq1 = beta*(phi1*w1*lambda1**(1-sigma)+phi2*w2*lambda2**(1-sigma))+beta*(phi1*lambda1**(1-sigma)+phi2*lambda2**(1-sigma))-w1\n",
    "eq2 = beta*(phi2*w1*lambda1**(1-sigma)+phi1*w2*lambda2**(1-sigma))+beta*(phi2*lambda1**(1-sigma)+phi1*lambda2**(1-sigma))-w2\n",
    "solve((eq1,eq2), (w1, w2))\n",
    "solution = solve((eq1,eq2), (w1, w2))\n",
    "\n",
    "s1=solution[w1]\n",
    "s2=solution[w2]\n",
    "returns_stocks = ((lambda1*(s1+1))/s1 + (lambda2*(s2+1))/s2)*(.5)\n",
    "returns_bonds = 1/(beta*(phi1*lambda1**(-sigma)+(phi2*lambda2**(-sigma))))\n"
   ]
  },
  {
   "cell_type": "markdown",
   "metadata": {},
   "source": [
    "## 1 a & b) Computing the Returns to Equity and Bonds"
   ]
  },
  {
   "cell_type": "code",
   "execution_count": 28,
   "metadata": {},
   "outputs": [
    {
     "name": "stdout",
     "output_type": "stream",
     "text": [
      "return equity:  5.61507754019193%\n",
      "return bonds:  2.054896369982151%\n"
     ]
    }
   ],
   "source": [
    "print('return equity:  '+ str((returns_stocks-1)*100)+'%')\n",
    "print('return bonds:  '+ str((returns_bonds-1)*100)+'%')"
   ]
  },
  {
   "cell_type": "markdown",
   "metadata": {},
   "source": [
    "### 1 c) Is the unconditional equity premium close to that in the data?"
   ]
  },
  {
   "cell_type": "code",
   "execution_count": 29,
   "metadata": {},
   "outputs": [
    {
     "name": "stdout",
     "output_type": "stream",
     "text": [
      "3.56018117020978\n",
      "0.01651910470348718\n",
      "-0.0190827069986106\n"
     ]
    }
   ],
   "source": [
    "premium  = (returns_stocks-1)-(returns_bonds-1)\n",
    "print(premium*100)\n",
    "how_close = true_premium-premium\n",
    "print(true_premium)\n",
    "print(how_close)\n"
   ]
  },
  {
   "cell_type": "markdown",
   "metadata": {},
   "source": [
    "#### The Equity Premium is about 1% off from the true premium in the data. This could be due to misspecifying the parameters incorrectly in the model or not calibrating the model to the data moments correctly. We do however, have the correct implication from the model. The Return to Equity is higher than that of the return to bonds."
   ]
  },
  {
   "cell_type": "markdown",
   "metadata": {},
   "source": [
    "## 2) Habit Presistence\n"
   ]
  },
  {
   "cell_type": "markdown",
   "metadata": {},
   "source": [
    "#### Here we specify the range of parameter values that we want to search through."
   ]
  },
  {
   "cell_type": "code",
   "execution_count": 31,
   "metadata": {},
   "outputs": [],
   "source": [
    "sigma_list = list(range(1,11))\n",
    "beta_list = list(np.linspace(0.90,1.0,11))\n",
    "delta_list = list(np.linspace(0.25,1.25,11))\n",
    "results_rows = []\n",
    "w1, w2 = symbols('w1 w2')\n"
   ]
  },
  {
   "cell_type": "code",
   "execution_count": 32,
   "metadata": {
    "collapsed": true
   },
   "outputs": [
    {
     "ename": "TypeError",
     "evalue": "list indices must be integers or slices, not Symbol",
     "output_type": "error",
     "traceback": [
      "\u001b[1;31m---------------------------------------------------------------------------\u001b[0m",
      "\u001b[1;31mTypeError\u001b[0m                                 Traceback (most recent call last)",
      "\u001b[1;32m<ipython-input-32-46b74b804a1e>\u001b[0m in \u001b[0;36m<module>\u001b[1;34m\u001b[0m\n\u001b[0;32m     16\u001b[0m             \u001b[0msolve\u001b[0m\u001b[1;33m(\u001b[0m\u001b[1;33m(\u001b[0m\u001b[0meq3\u001b[0m\u001b[1;33m,\u001b[0m\u001b[0meq4\u001b[0m\u001b[1;33m)\u001b[0m\u001b[1;33m,\u001b[0m \u001b[1;33m(\u001b[0m\u001b[0mw1\u001b[0m\u001b[1;33m,\u001b[0m \u001b[0mw2\u001b[0m\u001b[1;33m)\u001b[0m\u001b[1;33m)\u001b[0m\u001b[1;33m\u001b[0m\u001b[1;33m\u001b[0m\u001b[0m\n\u001b[0;32m     17\u001b[0m             \u001b[0msolution2\u001b[0m \u001b[1;33m=\u001b[0m \u001b[0msolve\u001b[0m\u001b[1;33m(\u001b[0m\u001b[1;33m(\u001b[0m\u001b[0meq3\u001b[0m\u001b[1;33m,\u001b[0m\u001b[0meq4\u001b[0m\u001b[1;33m)\u001b[0m\u001b[1;33m,\u001b[0m \u001b[1;33m(\u001b[0m\u001b[0mw1\u001b[0m\u001b[1;33m,\u001b[0m \u001b[0mw2\u001b[0m\u001b[1;33m)\u001b[0m\u001b[1;33m)\u001b[0m\u001b[1;33m\u001b[0m\u001b[1;33m\u001b[0m\u001b[0m\n\u001b[1;32m---> 18\u001b[1;33m             \u001b[0ms1\u001b[0m\u001b[1;33m=\u001b[0m\u001b[0msolution2\u001b[0m\u001b[1;33m[\u001b[0m\u001b[0mw1\u001b[0m\u001b[1;33m]\u001b[0m\u001b[1;33m\u001b[0m\u001b[1;33m\u001b[0m\u001b[0m\n\u001b[0m\u001b[0;32m     19\u001b[0m             \u001b[0ms2\u001b[0m\u001b[1;33m=\u001b[0m\u001b[0msolution2\u001b[0m\u001b[1;33m[\u001b[0m\u001b[0mw2\u001b[0m\u001b[1;33m]\u001b[0m\u001b[1;33m\u001b[0m\u001b[1;33m\u001b[0m\u001b[0m\n\u001b[0;32m     20\u001b[0m \u001b[1;33m\u001b[0m\u001b[0m\n",
      "\u001b[1;31mTypeError\u001b[0m: list indices must be integers or slices, not Symbol"
     ]
    }
   ],
   "source": [
    "# Giant triple for loop to grid search through our parameter values\n",
    "for beta in beta_list:\n",
    "    for sigma in sigma_list:\n",
    "        for delta in delta_list:\n",
    "            results_col= {}\n",
    "\n",
    "            #print(delta)\n",
    "            #print(sigma)\n",
    "            #print(beta)\n",
    "            \n",
    "            M1 = ((lambda1-delta)/(1-(delta/lambda1)))**(-sigma)\n",
    "            M2 = ((lambda2-delta)/(1-(delta/lambda2)))**(-sigma)\n",
    "            \n",
    "            eq3 = beta*(phi1*w1*lambda1*M1+phi2*w2*lambda2*M2)+beta*(phi1*lambda1*M1+phi2*lambda2*M2)-w1      \n",
    "            eq4 = beta*(phi2*w1*lambda1*M1+phi1*w2*lambda2*M2)+beta*(phi2*lambda1*M1+phi1*lambda2*M2)-w2\n",
    "            solve((eq3,eq4), (w1, w2))\n",
    "            solution2 = solve((eq3,eq4), (w1, w2))\n",
    "            s1=solution2[w1]\n",
    "            s2=solution2[w2]\n",
    "            \n",
    "            returns_stocks = ((lambda1*(s1+1))/s1 + (lambda2*(s2+1))/s2)*(.5)\n",
    "            \n",
    "            returns_bonds = 1/(beta*(phi1*lambda1**(-sigma)+(phi2*lambda2**(-sigma))))\n",
    "            \n",
    "            premium  = returns_stocks-returns_bonds\n",
    "            #print(premium)\n",
    "            how_close = true_premium-premium\n",
    "            \n",
    "            results_col['model premium'] = premium*100\n",
    "            results_col['data_premium'] = true_premium*100\n",
    "            results_col['difference'] = how_close\n",
    "            results_col['parameters'] = [beta,sigma, delta]\n",
    "            results_rows.append(results_col)\n",
    "            "
   ]
  },
  {
   "cell_type": "code",
   "execution_count": 33,
   "metadata": {
    "scrolled": true
   },
   "outputs": [
    {
     "data": {
      "text/html": [
       "<div>\n",
       "<style scoped>\n",
       "    .dataframe tbody tr th:only-of-type {\n",
       "        vertical-align: middle;\n",
       "    }\n",
       "\n",
       "    .dataframe tbody tr th {\n",
       "        vertical-align: top;\n",
       "    }\n",
       "\n",
       "    .dataframe thead th {\n",
       "        text-align: right;\n",
       "    }\n",
       "</style>\n",
       "<table border=\"1\" class=\"dataframe\">\n",
       "  <thead>\n",
       "    <tr style=\"text-align: right;\">\n",
       "      <th></th>\n",
       "      <th>model premium</th>\n",
       "      <th>data_premium</th>\n",
       "      <th>difference</th>\n",
       "      <th>parameters</th>\n",
       "    </tr>\n",
       "  </thead>\n",
       "  <tbody>\n",
       "    <tr>\n",
       "      <th>0</th>\n",
       "      <td>0.377692228627069</td>\n",
       "      <td>1.65191</td>\n",
       "      <td>0.0127421824172165</td>\n",
       "      <td>[0.9, 1, 0.25]</td>\n",
       "    </tr>\n",
       "    <tr>\n",
       "      <th>1</th>\n",
       "      <td>0.377692228627069</td>\n",
       "      <td>1.65191</td>\n",
       "      <td>0.0127421824172165</td>\n",
       "      <td>[0.9, 1, 0.35]</td>\n",
       "    </tr>\n",
       "    <tr>\n",
       "      <th>2</th>\n",
       "      <td>0.377692228627069</td>\n",
       "      <td>1.65191</td>\n",
       "      <td>0.0127421824172165</td>\n",
       "      <td>[0.9, 1, 0.45]</td>\n",
       "    </tr>\n",
       "    <tr>\n",
       "      <th>3</th>\n",
       "      <td>0.377692228627069</td>\n",
       "      <td>1.65191</td>\n",
       "      <td>0.0127421824172165</td>\n",
       "      <td>[0.9, 1, 0.55]</td>\n",
       "    </tr>\n",
       "    <tr>\n",
       "      <th>4</th>\n",
       "      <td>0.377692228627069</td>\n",
       "      <td>1.65191</td>\n",
       "      <td>0.0127421824172165</td>\n",
       "      <td>[0.9, 1, 0.65]</td>\n",
       "    </tr>\n",
       "    <tr>\n",
       "      <th>5</th>\n",
       "      <td>0.377692228627069</td>\n",
       "      <td>1.65191</td>\n",
       "      <td>0.0127421824172165</td>\n",
       "      <td>[0.9, 1, 0.75]</td>\n",
       "    </tr>\n",
       "    <tr>\n",
       "      <th>6</th>\n",
       "      <td>0.377692228627136</td>\n",
       "      <td>1.65191</td>\n",
       "      <td>0.0127421824172158</td>\n",
       "      <td>[0.9, 1, 0.8500000000000001]</td>\n",
       "    </tr>\n",
       "    <tr>\n",
       "      <th>7</th>\n",
       "      <td>0.377692228627069</td>\n",
       "      <td>1.65191</td>\n",
       "      <td>0.0127421824172165</td>\n",
       "      <td>[0.9, 1, 0.9500000000000001]</td>\n",
       "    </tr>\n",
       "    <tr>\n",
       "      <th>8</th>\n",
       "      <td>0.377692228627247</td>\n",
       "      <td>1.65191</td>\n",
       "      <td>0.0127421824172147</td>\n",
       "      <td>[0.9, 1, 1.05]</td>\n",
       "    </tr>\n",
       "    <tr>\n",
       "      <th>9</th>\n",
       "      <td>0.377692228627136</td>\n",
       "      <td>1.65191</td>\n",
       "      <td>0.0127421824172158</td>\n",
       "      <td>[0.9, 1, 1.15]</td>\n",
       "    </tr>\n",
       "    <tr>\n",
       "      <th>10</th>\n",
       "      <td>0.377692228627202</td>\n",
       "      <td>1.65191</td>\n",
       "      <td>0.0127421824172152</td>\n",
       "      <td>[0.9, 1, 1.25]</td>\n",
       "    </tr>\n",
       "    <tr>\n",
       "      <th>11</th>\n",
       "      <td>0.757340778411786</td>\n",
       "      <td>1.65191</td>\n",
       "      <td>0.00894569691936932</td>\n",
       "      <td>[0.9, 2, 0.25]</td>\n",
       "    </tr>\n",
       "    <tr>\n",
       "      <th>12</th>\n",
       "      <td>0.757340778411786</td>\n",
       "      <td>1.65191</td>\n",
       "      <td>0.00894569691936932</td>\n",
       "      <td>[0.9, 2, 0.35]</td>\n",
       "    </tr>\n",
       "    <tr>\n",
       "      <th>13</th>\n",
       "      <td>0.757340778411830</td>\n",
       "      <td>1.65191</td>\n",
       "      <td>0.00894569691936888</td>\n",
       "      <td>[0.9, 2, 0.45]</td>\n",
       "    </tr>\n",
       "    <tr>\n",
       "      <th>14</th>\n",
       "      <td>0.757340778411786</td>\n",
       "      <td>1.65191</td>\n",
       "      <td>0.00894569691936932</td>\n",
       "      <td>[0.9, 2, 0.55]</td>\n",
       "    </tr>\n",
       "    <tr>\n",
       "      <th>15</th>\n",
       "      <td>0.757340778411786</td>\n",
       "      <td>1.65191</td>\n",
       "      <td>0.00894569691936932</td>\n",
       "      <td>[0.9, 2, 0.65]</td>\n",
       "    </tr>\n",
       "    <tr>\n",
       "      <th>16</th>\n",
       "      <td>0.757340778411786</td>\n",
       "      <td>1.65191</td>\n",
       "      <td>0.00894569691936932</td>\n",
       "      <td>[0.9, 2, 0.75]</td>\n",
       "    </tr>\n",
       "    <tr>\n",
       "      <th>17</th>\n",
       "      <td>0.757340778411830</td>\n",
       "      <td>1.65191</td>\n",
       "      <td>0.00894569691936888</td>\n",
       "      <td>[0.9, 2, 0.8500000000000001]</td>\n",
       "    </tr>\n",
       "    <tr>\n",
       "      <th>18</th>\n",
       "      <td>0.757340778411830</td>\n",
       "      <td>1.65191</td>\n",
       "      <td>0.00894569691936888</td>\n",
       "      <td>[0.9, 2, 0.9500000000000001]</td>\n",
       "    </tr>\n",
       "    <tr>\n",
       "      <th>19</th>\n",
       "      <td>0.757340778412163</td>\n",
       "      <td>1.65191</td>\n",
       "      <td>0.00894569691936555</td>\n",
       "      <td>[0.9, 2, 1.05]</td>\n",
       "    </tr>\n",
       "    <tr>\n",
       "      <th>20</th>\n",
       "      <td>0.757340778411808</td>\n",
       "      <td>1.65191</td>\n",
       "      <td>0.00894569691936910</td>\n",
       "      <td>[0.9, 2, 1.15]</td>\n",
       "    </tr>\n",
       "    <tr>\n",
       "      <th>21</th>\n",
       "      <td>0.757340778411919</td>\n",
       "      <td>1.65191</td>\n",
       "      <td>0.00894569691936799</td>\n",
       "      <td>[0.9, 2, 1.25]</td>\n",
       "    </tr>\n",
       "    <tr>\n",
       "      <th>22</th>\n",
       "      <td>1.14031773171459</td>\n",
       "      <td>1.65191</td>\n",
       "      <td>0.00511592738634127</td>\n",
       "      <td>[0.9, 3, 0.25]</td>\n",
       "    </tr>\n",
       "    <tr>\n",
       "      <th>23</th>\n",
       "      <td>1.14031773171452</td>\n",
       "      <td>1.65191</td>\n",
       "      <td>0.00511592738634194</td>\n",
       "      <td>[0.9, 3, 0.35]</td>\n",
       "    </tr>\n",
       "    <tr>\n",
       "      <th>24</th>\n",
       "      <td>1.14031773171459</td>\n",
       "      <td>1.65191</td>\n",
       "      <td>0.00511592738634127</td>\n",
       "      <td>[0.9, 3, 0.45]</td>\n",
       "    </tr>\n",
       "  </tbody>\n",
       "</table>\n",
       "</div>"
      ],
      "text/plain": [
       "        model premium  data_premium           difference  \\\n",
       "0   0.377692228627069       1.65191   0.0127421824172165   \n",
       "1   0.377692228627069       1.65191   0.0127421824172165   \n",
       "2   0.377692228627069       1.65191   0.0127421824172165   \n",
       "3   0.377692228627069       1.65191   0.0127421824172165   \n",
       "4   0.377692228627069       1.65191   0.0127421824172165   \n",
       "5   0.377692228627069       1.65191   0.0127421824172165   \n",
       "6   0.377692228627136       1.65191   0.0127421824172158   \n",
       "7   0.377692228627069       1.65191   0.0127421824172165   \n",
       "8   0.377692228627247       1.65191   0.0127421824172147   \n",
       "9   0.377692228627136       1.65191   0.0127421824172158   \n",
       "10  0.377692228627202       1.65191   0.0127421824172152   \n",
       "11  0.757340778411786       1.65191  0.00894569691936932   \n",
       "12  0.757340778411786       1.65191  0.00894569691936932   \n",
       "13  0.757340778411830       1.65191  0.00894569691936888   \n",
       "14  0.757340778411786       1.65191  0.00894569691936932   \n",
       "15  0.757340778411786       1.65191  0.00894569691936932   \n",
       "16  0.757340778411786       1.65191  0.00894569691936932   \n",
       "17  0.757340778411830       1.65191  0.00894569691936888   \n",
       "18  0.757340778411830       1.65191  0.00894569691936888   \n",
       "19  0.757340778412163       1.65191  0.00894569691936555   \n",
       "20  0.757340778411808       1.65191  0.00894569691936910   \n",
       "21  0.757340778411919       1.65191  0.00894569691936799   \n",
       "22   1.14031773171459       1.65191  0.00511592738634127   \n",
       "23   1.14031773171452       1.65191  0.00511592738634194   \n",
       "24   1.14031773171459       1.65191  0.00511592738634127   \n",
       "\n",
       "                      parameters  \n",
       "0                 [0.9, 1, 0.25]  \n",
       "1                 [0.9, 1, 0.35]  \n",
       "2                 [0.9, 1, 0.45]  \n",
       "3                 [0.9, 1, 0.55]  \n",
       "4                 [0.9, 1, 0.65]  \n",
       "5                 [0.9, 1, 0.75]  \n",
       "6   [0.9, 1, 0.8500000000000001]  \n",
       "7   [0.9, 1, 0.9500000000000001]  \n",
       "8                 [0.9, 1, 1.05]  \n",
       "9                 [0.9, 1, 1.15]  \n",
       "10                [0.9, 1, 1.25]  \n",
       "11                [0.9, 2, 0.25]  \n",
       "12                [0.9, 2, 0.35]  \n",
       "13                [0.9, 2, 0.45]  \n",
       "14                [0.9, 2, 0.55]  \n",
       "15                [0.9, 2, 0.65]  \n",
       "16                [0.9, 2, 0.75]  \n",
       "17  [0.9, 2, 0.8500000000000001]  \n",
       "18  [0.9, 2, 0.9500000000000001]  \n",
       "19                [0.9, 2, 1.05]  \n",
       "20                [0.9, 2, 1.15]  \n",
       "21                [0.9, 2, 1.25]  \n",
       "22                [0.9, 3, 0.25]  \n",
       "23                [0.9, 3, 0.35]  \n",
       "24                [0.9, 3, 0.45]  "
      ]
     },
     "execution_count": 33,
     "metadata": {},
     "output_type": "execute_result"
    }
   ],
   "source": [
    "table = pd.DataFrame(results_rows)   \n",
    "table.head(25)"
   ]
  },
  {
   "cell_type": "code",
   "execution_count": 45,
   "metadata": {},
   "outputs": [],
   "source": [
    "table['abs_difference'] = abs(table['difference'])"
   ]
  },
  {
   "cell_type": "code",
   "execution_count": 46,
   "metadata": {},
   "outputs": [
    {
     "data": {
      "text/plain": [
       "model premium     1.74283745873896\n",
       "data_premium               1.65191\n",
       "difference             -0.00090927\n",
       "parameters         [0.99, 5, 0.35]\n",
       "abs_difference          0.00090927\n",
       "Name: 1035, dtype: object"
      ]
     },
     "execution_count": 46,
     "metadata": {},
     "output_type": "execute_result"
    }
   ],
   "source": [
    "    \n",
    "table['abs_difference'] = table['abs_difference'].astype(float)\n",
    "table['abs_difference'].idxmin()\n",
    "table.loc[table['abs_difference'].idxmin()]\n",
    "\n",
    "\n"
   ]
  },
  {
   "cell_type": "markdown",
   "metadata": {},
   "source": [
    "## Best Parameters\n",
    "### Beta = 0.99\n",
    "### Sigma = 5\n",
    "### Delta = 0.35"
   ]
  },
  {
   "cell_type": "code",
   "execution_count": 40,
   "metadata": {},
   "outputs": [
    {
     "data": {
      "text/plain": [
       "[<matplotlib.lines.Line2D at 0x2c4b792b608>]"
      ]
     },
     "execution_count": 40,
     "metadata": {},
     "output_type": "execute_result"
    },
    {
     "data": {
      "image/png": "[encoded data removed]",
      "text/plain": [
       "<Figure size 432x288 with 1 Axes>"
      ]
     },
     "metadata": {
      "needs_background": "light"
     },
     "output_type": "display_data"
    }
   ],
   "source": [
    "import matplotlib.pyplot as plt\n",
    "plt.plot(table.difference)"
   ]
  },
  {
   "cell_type": "code",
   "execution_count": 47,
   "metadata": {},
   "outputs": [
    {
     "data": {
      "text/plain": [
       "[<matplotlib.lines.Line2D at 0x2c4b8647288>]"
      ]
     },
     "execution_count": 47,
     "metadata": {},
     "output_type": "execute_result"
    },
    {
     "data": {
      "image/png": "[encoded data removed]",
      "text/plain": [
       "<Figure size 432x288 with 1 Axes>"
      ]
     },
     "metadata": {
      "needs_background": "light"
     },
     "output_type": "display_data"
    }
   ],
   "source": [
    "plt.plot(table.abs_difference)"
   ]
  },
  {
   "cell_type": "code",
   "execution_count": null,
   "metadata": {},
   "outputs": [],
   "source": []
  }
 ],
 "metadata": {
  "kernelspec": {
   "display_name": "Python 3",
   "language": "python",
   "name": "python3"
  },
  "language_info": {
   "codemirror_mode": {
    "name": "ipython",
    "version": 3
   },
   "file_extension": ".py",
   "mimetype": "text/x-python",
   "name": "python",
   "nbconvert_exporter": "python",
   "pygments_lexer": "ipython3",
   "version": "3.7.6"
  }
 },
 "nbformat": 4,
 "nbformat_minor": 4
}
